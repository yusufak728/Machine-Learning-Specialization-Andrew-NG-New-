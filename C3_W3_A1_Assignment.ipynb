{
 "cells": [
  {
   "cell_type": "markdown",
   "metadata": {},
   "source": [
    "# Deep Q-Learning - Lunar Lander\n",
    "\n",
    "In this assignment, you will train an agent to land a lunar lander safely on a landing pad on the surface of the moon.\n",
    "\n",
    "\n",
    "# Outline\n",
    "- [ 1 - Import Packages <img align=\"Right\" src=\"./images/lunar_lander.gif\" width = 60% >](#1)\n",
    "- [ 2 - Hyperparameters](#2)\n",
    "- [ 3 - The Lunar Lander Environment](#3)\n",
    "  - [ 3.1 Action Space](#3.1)\n",
    "  - [ 3.2 Observation Space](#3.2)\n",
    "  - [ 3.3 Rewards](#3.3)\n",
    "  - [ 3.4 Episode Termination](#3.4)\n",
    "- [ 4 - Load the Environment](#4)\n",
    "- [ 5 - Interacting with the Gym Environment](#5)\n",
    "    - [ 5.1 Exploring the Environment's Dynamics](#5.1)\n",
    "- [ 6 - Deep Q-Learning](#6)\n",
    "  - [ 6.1 Target Network](#6.1)\n",
    "    - [ Exercise 1](#ex01)\n",
    "  - [ 6.2 Experience Replay](#6.2)\n",
    "- [ 7 - Deep Q-Learning Algorithm with Experience Replay](#7)\n",
    "  - [ Exercise 2](#ex02)\n",
    "- [ 8 - Update the Network Weights](#8)\n",
    "- [ 9 - Train the Agent](#9)\n",
    "- [ 10 - See the Trained Agent In Action](#10)\n",
    "- [ 11 - Congratulations!](#11)\n",
    "- [ 12 - References](#12)\n"
   ]
  },
  {
   "cell_type": "markdown",
   "metadata": {},
   "source": [
    "<a name=\"1\"></a>\n",
    "## 1 - Import Packages\n",
    "\n",
    "We'll make use of the following packages:\n",
    "- `numpy` is a package for scientific computing in python.\n",
    "- `deque` will be our data structure for our memory buffer.\n",
    "- `namedtuple` will be used to store the experience tuples.\n",
    "- The `gym` toolkit is a collection of environments that can be used to test reinforcement learning algorithms. We should note that in this notebook we are using `gym` version `0.24.0`.\n",
    "- `PIL.Image` and `pyvirtualdisplay` are needed to render the Lunar Lander environment.\n",
    "- We will use several modules from the `tensorflow.keras` framework for building deep learning models.\n",
    "- `utils` is a module that contains helper functions for this assignment. You do not need to modify the code in this file.\n",
    "\n",
    "Run the cell below to import all the necessary packages."
   ]
  },
  {
   "cell_type": "code",
   "execution_count": 1,
   "metadata": {
    "id": "KYbOPKRtfQOr"
   },
   "outputs": [],
   "source": [
    "import time\n",
    "from collections import deque, namedtuple\n",
    "\n",
    "import gym\n",
    "import numpy as np\n",
    "import PIL.Image\n",
    "import tensorflow as tf\n",
    "import utils\n",
    "\n",
    "from pyvirtualdisplay import Display\n",
    "from tensorflow.keras import Sequential\n",
    "from tensorflow.keras.layers import Dense, Input\n",
    "from tensorflow.keras.losses import MSE\n",
    "from tensorflow.keras.optimizers import Adam"
   ]
  },
  {
   "cell_type": "code",
   "execution_count": 2,
   "metadata": {},
   "outputs": [],
   "source": [
    "# Set up a virtual display to render the Lunar Lander environment.\n",
    "Display(visible=0, size=(840, 480)).start();\n",
    "\n",
    "# Set the random seed for TensorFlow\n",
    "tf.random.set_seed(utils.SEED)"
   ]
  },
  {
   "cell_type": "markdown",
   "metadata": {},
   "source": [
    "<a name=\"2\"></a>\n",
    "## 2 - Hyperparameters\n",
    "\n",
    "Run the cell below to set the hyperparameters."
   ]
  },
  {
   "cell_type": "code",
   "execution_count": 3,
   "metadata": {},
   "outputs": [],
   "source": [
    "MEMORY_SIZE = 100_000     # size of memory buffer\n",
    "GAMMA = 0.995             # discount factor\n",
    "ALPHA = 1e-3              # learning rate  \n",
    "NUM_STEPS_FOR_UPDATE = 4  # perform a learning update every C time steps"
   ]
  },
  {
   "cell_type": "markdown",
   "metadata": {},
   "source": [
    "<a name=\"3\"></a>\n",
    "## 3 - The Lunar Lander Environment\n",
    "\n",
    "In this notebook we will be using [OpenAI's Gym Library](https://www.gymlibrary.dev/). The Gym library provides a wide variety of environments for reinforcement learning. To put it simply, an environment represents a problem or task to be solved. In this notebook, we will try to solve the Lunar Lander environment using reinforcement learning.\n",
    "\n",
    "The goal of the Lunar Lander environment is to land the lunar lander safely on the landing pad on the surface of the moon. The landing pad is designated by two flag poles and it is always at coordinates `(0,0)` but the lander is also allowed to land outside of the landing pad. The lander starts at the top center of the environment with a random initial force applied to its center of mass and has infinite fuel. The environment is considered solved if you get `200` points. \n",
    "\n",
    "<br>\n",
    "<br>\n",
    "<figure>\n",
    "  <img src = \"images/lunar_lander.gif\" width = 40%>\n",
    "      <figcaption style = \"text-align: center; font-style: italic\">Fig 1. Lunar Lander Environment.</figcaption>\n",
    "</figure>\n",
    "\n",
    "\n",
    "\n",
    "<a name=\"3.1\"></a>\n",
    "### 3.1 Action Space\n",
    "\n",
    "The agent has four discrete actions available:\n",
    "\n",
    "* Do nothing.\n",
    "* Fire right engine.\n",
    "* Fire main engine.\n",
    "* Fire left engine.\n",
    "\n",
    "Each action has a corresponding numerical value:\n",
    "\n",
    "```python\n",
    "Do nothing = 0\n",
    "Fire right engine = 1\n",
    "Fire main engine = 2\n",
    "Fire left engine = 3\n",
    "```\n",
    "\n",
    "<a name=\"3.2\"></a>\n",
    "### 3.2 Observation Space\n",
    "\n",
    "The agent's observation space consists of a state vector with 8 variables:\n",
    "\n",
    "* Its $(x,y)$ coordinates. The landing pad is always at coordinates $(0,0)$.\n",
    "* Its linear velocities $(\\dot x,\\dot y)$.\n",
    "* Its angle $\\theta$.\n",
    "* Its angular velocity $\\dot \\theta$.\n",
    "* Two booleans, $l$ and $r$, that represent whether each leg is in contact with the ground or not.\n",
    "\n",
    "<a name=\"3.3\"></a>\n",
    "### 3.3 Rewards\n",
    "\n",
    "The Lunar Lander environment has the following reward system:\n",
    "\n",
    "* Landing on the landing pad and coming to rest is about 100-140 points.\n",
    "* If the lander moves away from the landing pad, it loses reward. \n",
    "* If the lander crashes, it receives -100 points.\n",
    "* If the lander comes to rest, it receives +100 points.\n",
    "* Each leg with ground contact is +10 points.\n",
    "* Firing the main engine is -0.3 points each frame.\n",
    "* Firing the side engine is -0.03 points each frame.\n",
    "\n",
    "<a name=\"3.4\"></a>\n",
    "### 3.4 Episode Termination\n",
    "\n",
    "An episode ends (i.e the environment enters a terminal state) if:\n",
    "\n",
    "* The lunar lander crashes (i.e if the body of the lunar lander comes in contact with the surface of the moon).\n",
    "\n",
    "* The absolute value of the lander's $x$-coordinate is greater than 1 (i.e. it goes beyond the left or right border)\n",
    "\n",
    "You can check out the [Open AI Gym documentation](https://www.gymlibrary.dev/environments/box2d/lunar_lander/) for a full description of the environment. "
   ]
  },
  {
   "cell_type": "markdown",
   "metadata": {},
   "source": [
    "<a name=\"4\"></a>\n",
    "## 4 - Load the Environment\n",
    "\n",
    "We start by loading the `LunarLander-v2` environment from the `gym` library by using the `.make()` method. `LunarLander-v2` is the latest version of the Lunar Lander environment and you can read about its version history in the [Open AI Gym documentation](https://www.gymlibrary.dev/environments/box2d/lunar_lander/#version-history)."
   ]
  },
  {
   "cell_type": "code",
   "execution_count": 4,
   "metadata": {
    "id": "ILVMYKewfR0n"
   },
   "outputs": [],
   "source": [
    "env = gym.make('LunarLander-v2')"
   ]
  },
  {
   "cell_type": "markdown",
   "metadata": {},
   "source": [
    "Once we load the environment we use the `.reset()` method to reset the environment to the initial state. The lander starts at the top center of the environment and we can render the first frame of the environment by using the `.render()` method."
   ]
  },
  {
   "cell_type": "code",
   "execution_count": 5,
   "metadata": {},
   "outputs": [
    {
     "data": {
      "image/png": "[encoded data removed]",
      "text/plain": [
       "<PIL.Image.Image image mode=RGB size=600x400 at 0x7F360F05B2D0>"
      ]
     },
     "execution_count": 5,
     "metadata": {},
     "output_type": "execute_result"
    }
   ],
   "source": [
    "env.reset()\n",
    "PIL.Image.fromarray(env.render(mode='rgb_array'))"
   ]
  },
  {
   "cell_type": "markdown",
   "metadata": {},
   "source": [
    "In order to build our neural network later on we need to know the size of the state vector and the number of valid actions. We can get this information from our environment by using the `.observation_space.shape` and `action_space.n` methods, respectively."
   ]
  },
  {
   "cell_type": "code",
   "execution_count": 6,
   "metadata": {
    "id": "x3fdqdG4CUu2"
   },
   "outputs": [
    {
     "name": "stdout",
     "output_type": "stream",
     "text": [
      "State Shape: (8,)\n",
      "Number of actions: 4\n"
     ]
    }
   ],
   "source": [
    "state_size = env.observation_space.shape\n",
    "num_actions = env.action_space.n\n",
    "\n",
    "print('State Shape:', state_size)\n",
    "print('Number of actions:', num_actions)"
   ]
  },
  {
   "cell_type": "markdown",
   "metadata": {},
   "source": [
    "<a name=\"5\"></a>\n",
    "## 5 - Interacting with the Gym Environment\n",
    "\n",
    "The Gym library implements the standard “agent-environment loop” formalism:\n",
    "\n",
    "<br>\n",
    "<center>\n",
    "<video src = \"./videos/rl_formalism.m4v\" width=\"840\" height=\"480\" controls autoplay loop poster=\"./images/rl_formalism.png\"> </video>\n",
    "<figcaption style = \"text-align:center; font-style:italic\">Fig 2. Agent-environment Loop Formalism.</figcaption>\n",
    "</center>\n",
    "<br>\n",
    "\n",
    "In the standard “agent-environment loop” formalism, an agent interacts with the environment in discrete time steps $t=0,1,2,...$. At each time step $t$, the agent uses a policy $\\pi$ to select an action $A_t$ based on its observation of the environment's state $S_t$. The agent receives a numerical reward $R_t$ and on the next time step, moves to a new state $S_{t+1}$.\n",
    "\n",
    "<a name=\"5.1\"></a>\n",
    "### 5.1 Exploring the Environment's Dynamics\n",
    "\n",
    "In Open AI's Gym environments, we use the `.step()` method to run a single time step of the environment's dynamics. In the version of `gym` that we are using the `.step()` method accepts an action and returns four values:\n",
    "\n",
    "* `observation` (**object**): an environment-specific object representing your observation of the environment. In the Lunar Lander environment this corresponds to a numpy array containing the positions and velocities of the lander as described in section [3.2 Observation Space](#3.2).\n",
    "\n",
    "\n",
    "* `reward` (**float**): amount of reward returned as a result of taking the given action. In the Lunar Lander environment this corresponds to a float of type `numpy.float64` as described in section [3.3 Rewards](#3.3).\n",
    "\n",
    "\n",
    "* `done` (**boolean**): When done is `True`, it indicates the episode has terminated and it’s time to reset the environment. \n",
    "\n",
    "\n",
    "* `info` (**dictionary**): diagnostic information useful for debugging. We won't be using this variable in this notebook but it is shown here for completeness.\n",
    "\n",
    "To begin an episode, we need to reset the environment to an initial state. We do this by using the `.reset()` method. "
   ]
  },
  {
   "cell_type": "code",
   "execution_count": 7,
   "metadata": {},
   "outputs": [],
   "source": [
    "# Reset the environment and get the initial state.\n",
    "initial_state = env.reset()"
   ]
  },
  {
   "cell_type": "markdown",
   "metadata": {},
   "source": [
    "Once the environment is reset, the agent can start taking actions in the environment by using the `.step()` method. Note that the agent can only take one action per time step. \n",
    "\n",
    "In the cell below you can select different actions and see how the returned values change depending on the action taken. Remember that in this environment the agent has four discrete actions available and we specify them in code by using their corresponding numerical value:\n",
    "\n",
    "```python\n",
    "Do nothing = 0\n",
    "Fire right engine = 1\n",
    "Fire main engine = 2\n",
    "Fire left engine = 3\n",
    "```"
   ]
  },
  {
   "cell_type": "code",
   "execution_count": 8,
   "metadata": {},
   "outputs": [
    {
     "data": {
      "text/html": [
       "<table class=\"simpletable\">\n",
       "<tr>\n",
       "  <th>Initial State:</th>      <td>[0.002 1.422 0.194 0.506 -0.002 -0.044 0.000 0.000]</td>\n",
       "</tr>\n",
       "<tr>\n",
       "  <th>Action:</th>                                 <td>Do nothing</td>                     \n",
       "</tr>\n",
       "<tr>\n",
       "  <th>Next State:</th>         <td>[0.004 1.433 0.194 0.480 -0.004 -0.044 0.000 0.000]</td>\n",
       "</tr>\n",
       "<tr>\n",
       "  <th>Reward Received:</th>                           <td>1.104</td>                       \n",
       "</tr>\n",
       "<tr>\n",
       "  <th>Episode Terminated:</th>                        <td>False</td>                       \n",
       "</tr>\n",
       "</table>"
      ],
      "text/plain": [
       "<class 'statsmodels.iolib.table.SimpleTable'>"
      ]
     },
     "execution_count": 8,
     "metadata": {},
     "output_type": "execute_result"
    }
   ],
   "source": [
    "# Select an action\n",
    "action = 0\n",
    "\n",
    "# Run a single time step of the environment's dynamics with the given action.\n",
    "next_state, reward, done, _ = env.step(action)\n",
    "\n",
    "utils.display_table(initial_state, action, next_state, reward, done)"
   ]
  },
  {
   "cell_type": "markdown",
   "metadata": {},
   "source": [
    "In practice, when we train the agent we use a loop to allow the agent to take many consecutive actions during an episode."
   ]
  },
  {
   "cell_type": "markdown",
   "metadata": {},
   "source": [
    "<a name=\"6\"></a>\n",
    "## 6 - Deep Q-Learning\n",
    "\n",
    "In cases where both the state and action space are discrete we can estimate the action-value function iteratively by using the Bellman equation:\n",
    "\n",
    "$$\n",
    "Q_{i+1}(s,a) = R + \\gamma \\max_{a'}Q_i(s',a')\n",
    "$$\n",
    "\n",
    "This iterative method converges to the optimal action-value function $Q^*(s,a)$ as $i\\to\\infty$. This means that the agent just needs to gradually explore the state-action space and keep updating the estimate of $Q(s,a)$ until it converges to the optimal action-value function $Q^*(s,a)$. However, in cases where the state space is continuous it becomes practically impossible to explore the entire state-action space. Consequently, this also makes it practically impossible to gradually estimate $Q(s,a)$ until it converges to $Q^*(s,a)$.\n",
    "\n",
    "In the Deep $Q$-Learning, we solve this problem by using a neural network to estimate the action-value function $Q(s,a)\\approx Q^*(s,a)$. We call this neural network a $Q$-Network and it can be trained by adjusting its weights at each iteration to minimize the mean-squared error in the Bellman equation.\n",
    "\n",
    "Unfortunately, using neural networks in reinforcement learning to estimate action-value functions has proven to be highly unstable. Luckily, there's a couple of techniques that can be employed to avoid instabilities. These techniques consist of using a ***Target Network*** and ***Experience Replay***. We will explore these two techniques in the following sections."
   ]
  },
  {
   "cell_type": "markdown",
   "metadata": {},
   "source": [
    "<a name=\"6.1\"></a>\n",
    "### 6.1 Target Network\n",
    "\n",
    "We can train the $Q$-Network by adjusting it's weights at each iteration to minimize the mean-squared error in the Bellman equation, where the target values are given by:\n",
    "\n",
    "$$\n",
    "y = R + \\gamma \\max_{a'}Q(s',a';w)\n",
    "$$\n",
    "\n",
    "where $w$ are the weights of the $Q$-Network. This means that we are adjusting the weights $w$ at each iteration to minimize the following error:\n",
    "\n",
    "$$\n",
    "\\overbrace{\\underbrace{R + \\gamma \\max_{a'}Q(s',a'; w)}_{\\rm {y~target}} - Q(s,a;w)}^{\\rm {Error}}\n",
    "$$\n",
    "\n",
    "Notice that this forms a problem because the $y$ target is changing on every iteration. Having a constantly moving target can lead to oscillations and instabilities. To avoid this, we can create\n",
    "a separate neural network for generating the $y$ targets. We call this separate neural network the **target $\\hat Q$-Network** and it will have the same architecture as the original $Q$-Network. By using the target $\\hat Q$-Network, the above error becomes:\n",
    "\n",
    "$$\n",
    "\\overbrace{\\underbrace{R + \\gamma \\max_{a'}\\hat{Q}(s',a'; w^-)}_{\\rm {y~target}} - Q(s,a;w)}^{\\rm {Error}}\n",
    "$$\n",
    "\n",
    "where $w^-$ and $w$ are the weights the target $\\hat Q$-Network and $Q$-Network, respectively.\n",
    "\n",
    "In practice, we will use the following algorithm: every $C$ time steps we will use the $\\hat Q$-Network to generate the $y$ targets and update the weights of the target $\\hat Q$-Network using the weights of the $Q$-Network. We will update the weights $w^-$ of the the target $\\hat Q$-Network using a **soft update**. This means that we will update the weights $w^-$ using the following rule:\n",
    " \n",
    "$$\n",
    "w^-\\leftarrow \\tau w + (1 - \\tau) w^-\n",
    "$$\n",
    "\n",
    "where $\\tau\\ll 1$. By using the soft update, we are ensuring that the target values, $y$, change slowly, which greatly improves the stability of our learning algorithm."
   ]
  },
  {
   "cell_type": "markdown",
   "metadata": {},
   "source": [
    "<a name=\"ex01\"></a>\n",
    "### Exercise 1\n",
    "\n",
    "In this exercise you will create the $Q$ and target $\\hat Q$ networks and set the optimizer. Remember that the Deep $Q$-Network (DQN) is a neural network that approximates the action-value function $Q(s,a)\\approx Q^*(s,a)$. It does this by learning how to map states to $Q$ values.\n",
    "\n",
    "To solve the Lunar Lander environment, we are going to employ a DQN with the following architecture:\n",
    "\n",
    "* An `Input` layer that takes `state_size` as input.\n",
    "\n",
    "* A `Dense` layer with `64` units and a `relu` activation function.\n",
    "\n",
    "* A `Dense` layer with `64` units and a `relu` activation function.\n",
    "\n",
    "* A `Dense` layer with `num_actions` units and a `linear` activation function. This will be the output layer of our network.\n",
    "\n",
    "\n",
    "In the cell below you should create the $Q$-Network and the target $\\hat Q$-Network using the model architecture described above. Remember that both the $Q$-Network and the target $\\hat Q$-Network have the same architecture.\n",
    "\n",
    "Lastly, you should set `Adam` as the optimizer with a learning rate equal to `ALPHA`. Recall that `ALPHA` was defined in the [Hyperparameters](#2) section. We should note that for this exercise you should use the already imported packages:\n",
    "```python\n",
    "from tensorflow.keras.layers import Dense, Input\n",
    "from tensorflow.keras.optimizers import Adam\n",
    "```"
   ]
  },
  {
   "cell_type": "code",
   "execution_count": 14,
   "metadata": {},
   "outputs": [],
   "source": [
    "# UNQ_C1\n",
    "# GRADED CELL\n",
    "\n",
    "# Create the Q-Network\n",
    "q_network = Sequential([\n",
    "    ### START CODE HERE ### \n",
    "    Input(shape=state_size),                      \n",
    "    Dense(units=64, activation='relu'),            \n",
    "    Dense(units=64, activation='relu'),            \n",
    "    Dense(units=num_actions, activation='linear'),\n",
    "\n",
    "    ### END CODE HERE ### \n",
    "    ])\n",
    "\n",
    "# Create the target Q^-Network\n",
    "target_q_network = Sequential([\n",
    "    ### START CODE HERE ###\n",
    "    Input(shape=state_size),                       \n",
    "    Dense(units=64, activation='relu'),            \n",
    "    Dense(units=64, activation='relu'),            \n",
    "    Dense(units=num_actions, activation='linear'),\n",
    "\n",
    "    ### END CODE HERE ###\n",
    "    ])\n",
    "\n",
    "### START CODE HERE ### \n",
    "optimizer = Adam(learning_rate=ALPHA)\n",
    "#optimizer = None\n",
    "### END CODE HERE ###"
   ]
  },
  {
   "cell_type": "code",
   "execution_count": 15,
   "metadata": {},
   "outputs": [
    {
     "name": "stdout",
     "output_type": "stream",
     "text": [
      "\u001b[92mAll tests passed!\n",
      "\u001b[92mAll tests passed!\n",
      "\u001b[92mAll tests passed!\n"
     ]
    }
   ],
   "source": [
    "# UNIT TEST\n",
    "from public_tests import *\n",
    "\n",
    "test_network(q_network)\n",
    "test_network(target_q_network)\n",
    "test_optimizer(optimizer, ALPHA) "
   ]
  },
  {
   "cell_type": "markdown",
   "metadata": {},
   "source": [
    "<details>\n",
    "  <summary><font size=\"3\" color=\"darkgreen\"><b>Click for hints</b></font></summary>\n",
    "    \n",
    "```python\n",
    "# Create the Q-Network\n",
    "q_network = Sequential([\n",
    "    Input(shape=state_size),                      \n",
    "    Dense(units=64, activation='relu'),            \n",
    "    Dense(units=64, activation='relu'),            \n",
    "    Dense(units=num_actions, activation='linear'),\n",
    "    ])\n",
    "\n",
    "# Create the target Q^-Network\n",
    "target_q_network = Sequential([\n",
    "    Input(shape=state_size),                       \n",
    "    Dense(units=64, activation='relu'),            \n",
    "    Dense(units=64, activation='relu'),            \n",
    "    Dense(units=num_actions, activation='linear'), \n",
    "    ])\n",
    "\n",
    "optimizer = Adam(learning_rate=ALPHA)                                  \n",
    "``` "
   ]
  },
  {
   "cell_type": "markdown",
   "metadata": {},
   "source": [
    "<a name=\"6.2\"></a>\n",
    "### 6.2 Experience Replay\n",
    "\n",
    "When an agent interacts with the environment, the states, actions, and rewards the agent experiences are sequential by nature. If the agent tries to learn from these consecutive experiences it can run into problems due to the strong correlations between them. To avoid this, we employ a technique known as **Experience Replay** to generate uncorrelated experiences for training our agent. Experience replay consists of storing the agent's experiences (i.e the states, actions, and rewards the agent receives) in a memory buffer and then sampling a random mini-batch of experiences from the buffer to do the learning. The experience tuples $(S_t, A_t, R_t, S_{t+1})$ will be added to the memory buffer at each time step as the agent interacts with the environment.\n",
    "\n",
    "For convenience, we will store the experiences as named tuples."
   ]
  },
  {
   "cell_type": "code",
   "execution_count": 16,
   "metadata": {},
   "outputs": [],
   "source": [
    "# Store experiences as named tuples\n",
    "experience = namedtuple(\"Experience\", field_names=[\"state\", \"action\", \"reward\", \"next_state\", \"done\"])"
   ]
  },
  {
   "cell_type": "markdown",
   "metadata": {},
   "source": [
    "By using experience replay we avoid problematic correlations, oscillations and instabilities. In addition, experience replay also allows the agent to potentially use the same experience in multiple weight updates, which increases data efficiency."
   ]
  },
  {
   "cell_type": "markdown",
   "metadata": {},
   "source": [
    "<a name=\"7\"></a>\n",
    "## 7 - Deep Q-Learning Algorithm with Experience Replay\n",
    "\n",
    "Now that we know all the techniques that we are going to use, we can put them together to arrive at the Deep Q-Learning Algorithm With Experience Replay.\n",
    "<br>\n",
    "<br>\n",
    "<figure>\n",
    "  <img src = \"images/deep_q_algorithm.png\" width = 90% style = \"border: thin silver solid; padding: 0px\">\n",
    "      <figcaption style = \"text-align: center; font-style: italic\">Fig 3. Deep Q-Learning with Experience Replay.</figcaption>\n",
    "</figure>"
   ]
  },
  {
   "cell_type": "markdown",
   "metadata": {},
   "source": [
    "<a name=\"ex02\"></a>\n",
    "### Exercise 2\n",
    "\n",
    "In this exercise you will implement line ***12*** of the algorithm outlined in *Fig 3* above and you will also compute the loss between the $y$ targets and the $Q(s,a)$ values. In the cell below, complete the `compute_loss` function by setting the $y$ targets equal to:\n",
    "\n",
    "$$\n",
    "\\begin{equation}\n",
    "    y_j =\n",
    "    \\begin{cases}\n",
    "      R_j & \\text{if episode terminates at step  } j+1\\\\\n",
    "      R_j + \\gamma \\max_{a'}\\hat{Q}(s_{j+1},a') & \\text{otherwise}\\\\\n",
    "    \\end{cases}       \n",
    "\\end{equation}\n",
    "$$\n",
    "\n",
    "Here are a couple of things to note:\n",
    "\n",
    "* The `compute_loss` function takes in a mini-batch of experience tuples. This mini-batch of experience tuples is unpacked to extract the `states`, `actions`, `rewards`, `next_states`, and `done_vals`. You should keep in mind that these variables are *TensorFlow Tensors* whose size will depend on the mini-batch size. For example, if the mini-batch size is `64` then both `rewards` and `done_vals` will be TensorFlow Tensors with `64` elements.\n",
    "\n",
    "\n",
    "* Using `if/else` statements to set the $y$ targets will not work when the variables are tensors with many elements. However, notice that you can use the `done_vals` to implement the above in a single line of code. To do this, recall that the `done` variable is a Boolean variable that takes the value `True` when an episode terminates at step $j+1$ and it is `False` otherwise. Taking into account that a Boolean value of `True` has the numerical value of `1` and a Boolean value of `False` has the numerical value of `0`, you can use the factor `(1 - done_vals)` to implement the above in a single line of code. Here's a hint: notice that `(1 - done_vals)` has a value of `0` when `done_vals` is `True` and a value of `1` when `done_vals` is `False`. \n",
    "\n",
    "Lastly, compute the loss by calculating the Mean-Squared Error (`MSE`) between the `y_targets` and the `q_values`. To calculate the mean-squared error you should use the already imported package `MSE`:\n",
    "```python\n",
    "from tensorflow.keras.losses import MSE\n",
    "```"
   ]
  },
  {
   "cell_type": "code",
   "execution_count": 17,
   "metadata": {},
   "outputs": [],
   "source": [
    "# UNQ_C2\n",
    "# GRADED FUNCTION: calculate_loss\n",
    "\n",
    "def compute_loss(experiences, gamma, q_network, target_q_network):\n",
    "    \"\"\" \n",
    "    Calculates the loss.\n",
    "    \n",
    "    Args:\n",
    "      experiences: (tuple) tuple of [\"state\", \"action\", \"reward\", \"next_state\", \"done\"] namedtuples\n",
    "      gamma: (float) The discount factor.\n",
    "      q_network: (tf.keras.Sequential) Keras model for predicting the q_values\n",
    "      target_q_network: (tf.keras.Sequential) Keras model for predicting the targets\n",
    "          \n",
    "    Returns:\n",
    "      loss: (TensorFlow Tensor(shape=(0,), dtype=int32)) the Mean-Squared Error between\n",
    "            the y targets and the Q(s,a) values.\n",
    "    \"\"\"\n",
    "    \n",
    "    # Unpack the mini-batch of experience tuples\n",
    "    states, actions, rewards, next_states, done_vals = experiences\n",
    "    \n",
    "    # Compute max Q^(s,a)\n",
    "    max_qsa = tf.reduce_max(target_q_network(next_states), axis=-1)\n",
    "    \n",
    "    # Set y = R if episode terminates, otherwise set y = R + γ max Q^(s,a).\n",
    "    ### START CODE HERE ### \n",
    "    y_targets = rewards + (gamma * max_qsa * (1 - done_vals))\n",
    "    #y_targets = None\n",
    "    ### END CODE HERE ###\n",
    "    \n",
    "    # Get the q_values\n",
    "    q_values = q_network(states)\n",
    "    q_values = tf.gather_nd(q_values, tf.stack([tf.range(q_values.shape[0]),\n",
    "                                                tf.cast(actions, tf.int32)], axis=1))\n",
    "        \n",
    "    # Compute the loss\n",
    "    ### START CODE HERE ### \n",
    "    loss = MSE(y_targets, q_values) \n",
    "    ### END CODE HERE ### \n",
    "    \n",
    "    return loss"
   ]
  },
  {
   "cell_type": "code",
   "execution_count": 18,
   "metadata": {},
   "outputs": [
    {
     "name": "stdout",
     "output_type": "stream",
     "text": [
      "\u001b[92mAll tests passed!\n"
     ]
    }
   ],
   "source": [
    "# UNIT TEST    \n",
    "test_compute_loss(compute_loss)"
   ]
  },
  {
   "cell_type": "markdown",
   "metadata": {},
   "source": [
    "<details>\n",
    "  <summary><font size=\"3\" color=\"darkgreen\"><b>Click for hints</b></font></summary>\n",
    "    \n",
    "```python\n",
    "def compute_loss(experiences, gamma, q_network, target_q_network):\n",
    "    \"\"\" \n",
    "    Calculates the loss.\n",
    "    \n",
    "    Args:\n",
    "      experiences: (tuple) tuple of [\"state\", \"action\", \"reward\", \"next_state\", \"done\"] namedtuples\n",
    "      gamma: (float) The discount factor.\n",
    "      q_network: (tf.keras.Sequential) Keras model for predicting the q_values\n",
    "      target_q_network: (tf.keras.Sequential) Keras model for predicting the targets\n",
    "          \n",
    "    Returns:\n",
    "      loss: (TensorFlow Tensor(shape=(0,), dtype=int32)) the Mean-Squared Error between\n",
    "            the y targets and the Q(s,a) values.\n",
    "    \"\"\"\n",
    "\n",
    "    \n",
    "    # Unpack the mini-batch of experience tuples\n",
    "    states, actions, rewards, next_states, done_vals = experiences\n",
    "    \n",
    "    # Compute max Q^(s,a)\n",
    "    max_qsa = tf.reduce_max(target_q_network(next_states), axis=-1)\n",
    "    \n",
    "    # Set y = R if episode terminates, otherwise set y = R + γ max Q^(s,a).\n",
    "    y_targets = rewards + (gamma * max_qsa * (1 - done_vals))\n",
    "    \n",
    "    # Get the q_values\n",
    "    q_values = q_network(states)\n",
    "    q_values = tf.gather_nd(q_values, tf.stack([tf.range(q_values.shape[0]),\n",
    "                                                tf.cast(actions, tf.int32)], axis=1))\n",
    "    \n",
    "    # Calculate the loss\n",
    "    loss = MSE(y_targets, q_values)\n",
    "    \n",
    "    return loss\n",
    "\n",
    "``` \n",
    "    "
   ]
  },
  {
   "cell_type": "markdown",
   "metadata": {},
   "source": [
    "<a name=\"8\"></a>\n",
    "## 8 - Update the Network Weights\n",
    "\n",
    "We will use the `agent_learn` function below to implement lines ***12 -14*** of the algorithm outlined in [Fig 3](#7). The `agent_learn` function will update the weights of the $Q$ and target $\\hat Q$ networks using a custom training loop. Because we are using a custom training loop we need to retrieve the gradients via a `tf.GradientTape` instance, and then call `optimizer.apply_gradients()` to update the weights of our $Q$-Network. Note that we are also using the `@tf.function` decorator to increase performance. Without this decorator our training will take twice as long. If you would like to know more about how to increase performance with `@tf.function` take a look at the [TensorFlow documentation](https://www.tensorflow.org/guide/function).\n",
    "\n",
    "The last line of this function updates the weights of the target $\\hat Q$-Network using a [soft update](#6.1). If you want to know how this is implemented in code we encourage you to take a look at the `utils.update_target_network` function in the `utils` module."
   ]
  },
  {
   "cell_type": "code",
   "execution_count": 19,
   "metadata": {},
   "outputs": [],
   "source": [
    "@tf.function\n",
    "def agent_learn(experiences, gamma):\n",
    "    \"\"\"\n",
    "    Updates the weights of the Q networks.\n",
    "    \n",
    "    Args:\n",
    "      experiences: (tuple) tuple of [\"state\", \"action\", \"reward\", \"next_state\", \"done\"] namedtuples\n",
    "      gamma: (float) The discount factor.\n",
    "    \n",
    "    \"\"\"\n",
    "    \n",
    "    # Calculate the loss\n",
    "    with tf.GradientTape() as tape:\n",
    "        loss = compute_loss(experiences, gamma, q_network, target_q_network)\n",
    "\n",
    "    # Get the gradients of the loss with respect to the weights.\n",
    "    gradients = tape.gradient(loss, q_network.trainable_variables)\n",
    "    \n",
    "    # Update the weights of the q_network.\n",
    "    optimizer.apply_gradients(zip(gradients, q_network.trainable_variables))\n",
    "\n",
    "    # update the weights of target q_network\n",
    "    utils.update_target_network(q_network, target_q_network)"
   ]
  },
  {
   "cell_type": "markdown",
   "metadata": {},
   "source": [
    "<a name=\"9\"></a>\n",
    "## 9 - Train the Agent\n",
    "\n",
    "We are now ready to train our agent to solve the Lunar Lander environment. In the cell below we will implement the algorithm in [Fig 3](#7) line by line (please note that we have included the same algorithm below for easy reference. This will prevent you from scrolling up and down the notebook):\n",
    "\n",
    "* **Line 1**: We initialize the `memory_buffer` with a capacity of $N =$ `MEMORY_SIZE`. Notice that we are using a `deque` as the data structure for our `memory_buffer`.\n",
    "\n",
    "\n",
    "* **Line 2**: We skip this line since we already initialized the `q_network` in [Exercise 1](#ex01).\n",
    "\n",
    "\n",
    "* **Line 3**: We initialize the `target_q_network` by setting its weights to be equal to those of the `q_network`.\n",
    "\n",
    "\n",
    "* **Line 4**: We start the outer loop. Notice that we have set $M =$ `num_episodes = 2000`. This number is reasonable because the agent should be able to solve the Lunar Lander environment in less than `2000` episodes using this notebook's default parameters.\n",
    "\n",
    "\n",
    "* **Line 5**: We use the `.reset()` method to reset the environment to the initial state and get the initial state.\n",
    "\n",
    "\n",
    "* **Line 6**: We start the inner loop. Notice that we have set $T =$ `max_num_timesteps = 1000`. This means that the episode will automatically terminate if the episode hasn't terminated after `1000` time steps.\n",
    "\n",
    "\n",
    "* **Line 7**: The agent observes the current `state` and chooses an `action` using an $\\epsilon$-greedy policy. Our agent starts out using a value of $\\epsilon =$ `epsilon = 1` which yields an $\\epsilon$-greedy policy that is equivalent to the equiprobable random policy. This means that at the beginning of our training, the agent is just going to take random actions regardless of the observed `state`. As training progresses we will decrease the value of $\\epsilon$ slowly towards a minimum value using a given $\\epsilon$-decay rate. We want this minimum value to be close to zero because a value of $\\epsilon = 0$ will yield an $\\epsilon$-greedy policy that is equivalent to the greedy policy. This means that towards the end of training, the agent will lean towards selecting the `action` that it believes (based on its past experiences) will maximize $Q(s,a)$. We will set the minimum $\\epsilon$ value to be `0.01` and not exactly 0 because we always want to keep a little bit of exploration during training. If you want to know how this is implemented in code we encourage you to take a look at the `utils.get_action` function in the `utils` module.\n",
    "\n",
    "\n",
    "* **Line 8**: We use the `.step()` method to take the given `action` in the environment and get the `reward` and the `next_state`. \n",
    "\n",
    "\n",
    "* **Line 9**: We store the `experience(state, action, reward, next_state, done)` tuple in our `memory_buffer`. Notice that we also store the `done` variable so that we can keep track of when an episode terminates. This allowed us to set the $y$ targets in [Exercise 2](#ex02).\n",
    "\n",
    "\n",
    "* **Line 10**: We check if the conditions are met to perform a learning update. We do this by using our custom `utils.check_update_conditions` function. This function checks if $C =$ `NUM_STEPS_FOR_UPDATE = 4` time steps have occured and if our `memory_buffer` has enough experience tuples to fill a mini-batch. For example, if the mini-batch size is `64`, then our `memory_buffer` should have at least `64` experience tuples in order to pass the latter condition. If the conditions are met, then the `utils.check_update_conditions` function will return a value of `True`, otherwise it will return a value of `False`.\n",
    "\n",
    "\n",
    "* **Lines 11 - 14**: If the `update` variable is `True` then we perform a learning update. The learning update consists of sampling a random mini-batch of experience tuples from our `memory_buffer`, setting the $y$ targets, performing gradient descent, and updating the weights of the networks. We will use the `agent_learn` function we defined in [Section 8](#8) to perform the latter 3.\n",
    "\n",
    "\n",
    "* **Line 15**: At the end of each iteration of the inner loop we set `next_state` as our new `state` so that the loop can start again from this new state. In addition, we check if the episode has reached a terminal state (i.e we check if `done = True`). If a terminal state has been reached, then we break out of the inner loop.\n",
    "\n",
    "\n",
    "* **Line 16**: At the end of each iteration of the outer loop we update the value of $\\epsilon$, and check if the environment has been solved. We consider that the environment has been solved if the agent receives an average of `200` points in the last `100` episodes. If the environment has not been solved we continue the outer loop and start a new episode.\n",
    "\n",
    "Finally, we wanted to note that we have included some extra variables to keep track of the total number of points the agent received in each episode. This will help us determine if the agent has solved the environment and it will also allow us to see how our agent performed during training. We also use the `time` module to measure how long the training takes. \n",
    "\n",
    "<br>\n",
    "<br>\n",
    "<figure>\n",
    "  <img src = \"images/deep_q_algorithm.png\" width = 90% style = \"border: thin silver solid; padding: 0px\">\n",
    "      <figcaption style = \"text-align: center; font-style: italic\">Fig 4. Deep Q-Learning with Experience Replay.</figcaption>\n",
    "</figure>\n",
    "<br>\n",
    "\n",
    "**Note:** With this notebook's default parameters, the following cell takes between 10 to 15 minutes to run. "
   ]
  },
  {
   "cell_type": "code",
   "execution_count": 20,
   "metadata": {},
   "outputs": [
    {
     "name": "stdout",
     "output_type": "stream",
     "text": [
      "Episode 100 | Total point average of the last 100 episodes: -140.75\n",
      "Episode 200 | Total point average of the last 100 episodes: -91.212\n",
      "Episode 300 | Total point average of the last 100 episodes: -65.91\n",
      "Episode 400 | Total point average of the last 100 episodes: -40.18\n",
      "Episode 500 | Total point average of the last 100 episodes: 36.035\n",
      "Episode 600 | Total point average of the last 100 episodes: 199.97\n",
      "Episode 601 | Total point average of the last 100 episodes: 200.68\n",
      "\n",
      "Environment solved in 601 episodes!\n",
      "\n",
      "Total Runtime: 903.79 s (15.06 min)\n"
     ]
    }
   ],
   "source": [
    "start = time.time()\n",
    "\n",
    "num_episodes = 2000\n",
    "max_num_timesteps = 1000\n",
    "\n",
    "total_point_history = []\n",
    "\n",
    "num_p_av = 100    # number of total points to use for averaging\n",
    "epsilon = 1.0     # initial ε value for ε-greedy policy\n",
    "\n",
    "# Create a memory buffer D with capacity N\n",
    "memory_buffer = deque(maxlen=MEMORY_SIZE)\n",
    "\n",
    "# Set the target network weights equal to the Q-Network weights\n",
    "target_q_network.set_weights(q_network.get_weights())\n",
    "\n",
    "for i in range(num_episodes):\n",
    "    \n",
    "    # Reset the environment to the initial state and get the initial state\n",
    "    state = env.reset()\n",
    "    total_points = 0\n",
    "    \n",
    "    for t in range(max_num_timesteps):\n",
    "        \n",
    "        # From the current state S choose an action A using an ε-greedy policy\n",
    "        state_qn = np.expand_dims(state, axis=0)  # state needs to be the right shape for the q_network\n",
    "        q_values = q_network(state_qn)\n",
    "        action = utils.get_action(q_values, epsilon)\n",
    "        \n",
    "        # Take action A and receive reward R and the next state S'\n",
    "        next_state, reward, done, _ = env.step(action)\n",
    "        \n",
    "        # Store experience tuple (S,A,R,S') in the memory buffer.\n",
    "        # We store the done variable as well for convenience.\n",
    "        memory_buffer.append(experience(state, action, reward, next_state, done))\n",
    "        \n",
    "        # Only update the network every NUM_STEPS_FOR_UPDATE time steps.\n",
    "        update = utils.check_update_conditions(t, NUM_STEPS_FOR_UPDATE, memory_buffer)\n",
    "        \n",
    "        if update:\n",
    "            # Sample random mini-batch of experience tuples (S,A,R,S') from D\n",
    "            experiences = utils.get_experiences(memory_buffer)\n",
    "            \n",
    "            # Set the y targets, perform a gradient descent step,\n",
    "            # and update the network weights.\n",
    "            agent_learn(experiences, GAMMA)\n",
    "        \n",
    "        state = next_state.copy()\n",
    "        total_points += reward\n",
    "        \n",
    "        if done:\n",
    "            break\n",
    "            \n",
    "    total_point_history.append(total_points)\n",
    "    av_latest_points = np.mean(total_point_history[-num_p_av:])\n",
    "    \n",
    "    # Update the ε value\n",
    "    epsilon = utils.get_new_eps(epsilon)\n",
    "\n",
    "    print(f\"\\rEpisode {i+1} | Total point average of the last {num_p_av} episodes: {av_latest_points:.2f}\", end=\"\")\n",
    "\n",
    "    if (i+1) % num_p_av == 0:\n",
    "        print(f\"\\rEpisode {i+1} | Total point average of the last {num_p_av} episodes: {av_latest_points:.2f}\")\n",
    "\n",
    "    # We will consider that the environment is solved if we get an\n",
    "    # average of 200 points in the last 100 episodes.\n",
    "    if av_latest_points >= 200.0:\n",
    "        print(f\"\\n\\nEnvironment solved in {i+1} episodes!\")\n",
    "        q_network.save('lunar_lander_model.h5')\n",
    "        break\n",
    "        \n",
    "tot_time = time.time() - start\n",
    "\n",
    "print(f\"\\nTotal Runtime: {tot_time:.2f} s ({(tot_time/60):.2f} min)\")"
   ]
  },
  {
   "cell_type": "markdown",
   "metadata": {},
   "source": [
    "We can plot the point history to see how our agent improved during training."
   ]
  },
  {
   "cell_type": "code",
   "execution_count": 21,
   "metadata": {
    "id": "E_EUXxurfe8m",
    "scrolled": false
   },
   "outputs": [
    {
     "data": {
      "image/png": "[encoded data removed]",
      "text/plain": [
       "<Figure size 720x504 with 1 Axes>"
      ]
     },
     "metadata": {},
     "output_type": "display_data"
    }
   ],
   "source": [
    "# Plot the point history\n",
    "utils.plot_history(total_point_history)"
   ]
  },
  {
   "cell_type": "markdown",
   "metadata": {
    "id": "c_xwgaX5MnYt"
   },
   "source": [
    "<a name=\"10\"></a>\n",
    "## 10 - See the Trained Agent In Action\n",
    "\n",
    "Now that we have trained our agent, we can see it in action. We will use the `utils.create_video` function to create a video of our agent interacting with the environment using the trained $Q$-Network. The `utils.create_video` function uses the `imageio` library to create the video. This library produces some warnings that can be distracting, so, to suppress these warnings we run the code below."
   ]
  },
  {
   "cell_type": "code",
   "execution_count": 22,
   "metadata": {},
   "outputs": [],
   "source": [
    "# Suppress warnings from imageio\n",
    "import logging\n",
    "logging.getLogger().setLevel(logging.ERROR)"
   ]
  },
  {
   "cell_type": "markdown",
   "metadata": {},
   "source": [
    "In the cell below we create a video of our agent interacting with the Lunar Lander environment using the trained `q_network`. The video is saved to the `videos` folder with the given `filename`. We use the `utils.embed_mp4` function to embed the video in the Jupyter Notebook so that we can see it here directly without having to download it.\n",
    "\n",
    "We should note that since the lunar lander starts with a random initial force applied to its center of mass, every time you run the cell below you will see a different video. If the agent was trained properly, it should be able to land the lunar lander in the landing pad every time, regardless of the initial force applied to its center of mass."
   ]
  },
  {
   "cell_type": "code",
   "execution_count": 23,
   "metadata": {
    "id": "3Ttb_zLeJKiG"
   },
   "outputs": [
    {
     "data": {
      "text/html": [
       "\n",
       "    <video width=\"840\" height=\"480\" controls>\n",
       "    <source src=\"data:video/mp4;base64,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\" type=\"video/mp4\">\n",
       "    Your browser does not support the video tag.\n",
       "    </video>"
      ],
      "text/plain": [
       "<IPython.core.display.HTML object>"
      ]
     },
     "execution_count": 23,
     "metadata": {},
     "output_type": "execute_result"
    }
   ],
   "source": [
    "filename = \"./videos/lunar_lander.mp4\"\n",
    "\n",
    "utils.create_video(filename, env, q_network)\n",
    "utils.embed_mp4(filename)"
   ]
  },
  {
   "cell_type": "markdown",
   "metadata": {},
   "source": [
    "<a name=\"11\"></a>\n",
    "## 11 - Congratulations!\n",
    "\n",
    "You have successfully used Deep Q-Learning with Experience Replay to train an agent to land a lunar lander safely on a landing pad on the surface of the moon. Congratulations!"
   ]
  },
  {
   "cell_type": "markdown",
   "metadata": {},
   "source": [
    "<a name=\"12\"></a>\n",
    "## 12 - References\n",
    "\n",
    "If you would like to learn more about Deep Q-Learning, we recommend you check out the following papers.\n",
    "\n",
    "\n",
    "* Mnih, V., Kavukcuoglu, K., Silver, D. et al. Human-level control through deep reinforcement learning. Nature 518, 529–533 (2015).\n",
    "\n",
    "\n",
    "* Lillicrap, T. P., Hunt, J. J., Pritzel, A., et al. Continuous Control with Deep Reinforcement Learning. ICLR (2016).\n",
    "\n",
    "\n",
    "* Mnih, V., Kavukcuoglu, K., Silver, D. et al. Playing Atari with Deep Reinforcement Learning. arXiv e-prints.  arXiv:1312.5602 (2013)."
   ]
  },
  {
   "cell_type": "code",
   "execution_count": null,
   "metadata": {},
   "outputs": [],
   "source": []
  }
 ],
 "metadata": {
  "accelerator": "GPU",
  "colab": {
   "collapsed_sections": [],
   "name": "TensorFlow - Lunar Lander.ipynb",
   "provenance": []
  },
  "kernelspec": {
   "display_name": "Python 3",
   "language": "python",
   "name": "python3"
  },
  "language_info": {
   "codemirror_mode": {
    "name": "ipython",
    "version": 3
   },
   "file_extension": ".py",
   "mimetype": "text/x-python",
   "name": "python",
   "nbconvert_exporter": "python",
   "pygments_lexer": "ipython3",
   "version": "3.7.6"
  }
 },
 "nbformat": 4,
 "nbformat_minor": 1
}
